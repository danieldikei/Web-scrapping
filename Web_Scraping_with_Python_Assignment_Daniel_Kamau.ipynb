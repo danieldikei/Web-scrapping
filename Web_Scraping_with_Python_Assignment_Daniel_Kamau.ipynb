{
  "nbformat": 4,
  "nbformat_minor": 0,
  "metadata": {
    "colab": {
      "provenance": [],
      "toc_visible": true
    },
    "kernelspec": {
      "name": "python3",
      "display_name": "Python 3"
    }
  },
  "cells": [
    {
      "cell_type": "markdown",
      "metadata": {
        "id": "7i5A-UY4Yruf"
      },
      "source": [
        "<font color='#2F4F4F'>To use this notebook on Colaboratory, you will need to make a copy of it. Go to File > Save a Copy in Drive. You can then use the new copy that will appear in the new tab.</font>\n"
      ]
    },
    {
      "cell_type": "markdown",
      "metadata": {
        "id": "0rOdcI2Nzhky"
      },
      "source": [
        "# <font color='#2F4F4F'>AfterWork Data Science: Web Scraping with Python</font>"
      ]
    },
    {
      "cell_type": "markdown",
      "metadata": {
        "id": "Tcso2rJCNAGq"
      },
      "source": [
        "## <font color='#2F4F4F'>Prerequisites</font>"
      ]
    },
    {
      "cell_type": "code",
      "metadata": {
        "id": "QSHljMZTNCRI"
      },
      "source": [
        "# We first import the required libraries\n",
        "# ---\n",
        "#\n",
        "import pandas as pd             # library for data manupation\n",
        "import requests                 # library for fetching a web page \n",
        "from bs4 import BeautifulSoup   # library for extrating contents from a webpage "
      ],
      "execution_count": 1,
      "outputs": []
    },
    {
      "cell_type": "markdown",
      "metadata": {
        "id": "CRmt1rRHgZRG"
      },
      "source": [
        "## <font color='#2F4F4F'>Step 1: Obtaining our Data</font>"
      ]
    },
    {
      "cell_type": "code",
      "metadata": {
        "id": "cM5TKD-P1h7Z",
        "colab": {
          "base_uri": "https://localhost:8080/"
        },
        "outputId": "3f8d0af8-7167-4298-d97b-39899fbdb2e8"
      },
      "source": [
        "# PigiaMe: https://www.pigiame.co.ke/it-software-jobs\n",
        "# ---\n",
        "#\n",
        "pigia_me = requests.get('https://www.pigiame.co.ke/it-software-jobs')\n",
        "pigia_me"
      ],
      "execution_count": 9,
      "outputs": [
        {
          "output_type": "execute_result",
          "data": {
            "text/plain": [
              "<Response [200]>"
            ]
          },
          "metadata": {},
          "execution_count": 9
        }
      ]
    },
    {
      "cell_type": "code",
      "metadata": {
        "id": "OfUvfxrD1nQC",
        "colab": {
          "base_uri": "https://localhost:8080/"
        },
        "outputId": "5b128180-686b-4882-c0a3-ad1af6a7780c"
      },
      "source": [
        "# MyJobMag: https://www.myjobmag.co.ke/jobs-by-field/information-technology\n",
        "# ---\n",
        "#\n",
        "MyJobMag = requests.get('https://www.myjobmag.co.ke/jobs-by-field/information-technology')\n",
        "MyJobMag"
      ],
      "execution_count": 11,
      "outputs": [
        {
          "output_type": "execute_result",
          "data": {
            "text/plain": [
              "<Response [200]>"
            ]
          },
          "metadata": {},
          "execution_count": 11
        }
      ]
    },
    {
      "cell_type": "code",
      "metadata": {
        "id": "psWrYhRUQDJC",
        "colab": {
          "base_uri": "https://localhost:8080/"
        },
        "outputId": "07da27e7-ec0d-477c-ba1a-34ff6a324aaa"
      },
      "source": [
        "# KenyanJob: https://www.kenyajob.com/job-vacancies-search-kenya?f%5B0%5D=im_field_offre_secteur%3A133\n",
        "# ---\n",
        "#\n",
        "KenyanJob = requests.get('https://www.kenyajob.com/job-vacancies-search-kenya?f%5B0%5D=im_field_offre_secteur%3A133')\n",
        "KenyanJob"
      ],
      "execution_count": 6,
      "outputs": [
        {
          "output_type": "execute_result",
          "data": {
            "text/plain": [
              "<Response [200]>"
            ]
          },
          "metadata": {},
          "execution_count": 6
        }
      ]
    },
    {
      "cell_type": "markdown",
      "metadata": {
        "id": "h7iRb8U8hHNw"
      },
      "source": [
        "## <font color='#2F4F4F'>Step 2: Parsing</font>"
      ]
    },
    {
      "cell_type": "code",
      "metadata": {
        "id": "AXWSK1kD2oeN"
      },
      "source": [
        "# Parsing our document: pigia_me\n",
        "# ---\n",
        "# \n",
        "pigiame = BeautifulSoup(pigia_me.text, \"html.parser\")"
      ],
      "execution_count": 10,
      "outputs": []
    },
    {
      "cell_type": "code",
      "metadata": {
        "id": "lrH9mgR82pzg"
      },
      "source": [
        "# Parsing our document: my_job_mag\n",
        "# ---\n",
        "#  \n",
        "my_job_mag = BeautifulSoup(MyJobMag.text, \"html.parser\")"
      ],
      "execution_count": 12,
      "outputs": []
    },
    {
      "cell_type": "code",
      "metadata": {
        "id": "O0x-Wz03QP5O"
      },
      "source": [
        "# Parsing our document: kenyan_job\n",
        "# ---\n",
        "# \n",
        "Kenyan_Job = BeautifulSoup(KenyanJob.text, \"html.parser\")"
      ],
      "execution_count": 13,
      "outputs": []
    },
    {
      "cell_type": "markdown",
      "metadata": {
        "id": "_OxuOAIXhPl5"
      },
      "source": [
        "## <font color='#2F4F4F'>Step 3: Extracting Required Elements</font>"
      ]
    },
    {
      "cell_type": "code",
      "metadata": {
        "id": "e2p147_LICKn"
      },
      "source": [
        "# 1. Extracting job titles and links: pigia me\n",
        "# ---\n",
        "# \n",
        "pigialinks = pigiame.find_all('link')\n",
        "pigiatitles = pigiame.find_all('title')"
      ],
      "execution_count": 20,
      "outputs": []
    },
    {
      "cell_type": "code",
      "source": [
        "print(pigialinks)"
      ],
      "metadata": {
        "colab": {
          "base_uri": "https://localhost:8080/"
        },
        "id": "u2jyAnqZR1Xr",
        "outputId": "1e835649-38c8-4b34-ded4-89ef01f470dc"
      },
      "execution_count": 30,
      "outputs": [
        {
          "output_type": "stream",
          "name": "stdout",
          "text": [
            "[<link href=\"https://i.roamcdn.net\" rel=\"dns-prefetch\"/>, <link href=\"https://i.roamcdn.net\" rel=\"preconnect\"/>, <link href=\"https://adservice.google.com\" rel=\"dns-prefetch\"/>, <link href=\"https://adservice.google.com\" rel=\"preconnect\"/>, <link href=\"https://cdn.onesignal.com\" rel=\"dns-prefetch\"/>, <link href=\"https://cdn.onesignal.com\" rel=\"preconnect\"/>, <link href=\"https://connect.facebook.net\" rel=\"dns-prefetch\"/>, <link href=\"https://connect.facebook.net\" rel=\"preconnect\"/>, <link href=\"https://creativecdn.com\" rel=\"dns-prefetch\"/>, <link href=\"https://creativecdn.com\" rel=\"preconnect\"/>, <link href=\"https://googleads.g.doubleclick.net\" rel=\"dns-prefetch\"/>, <link href=\"https://googleads.g.doubleclick.net\" rel=\"preconnect\"/>, <link href=\"https://insights.hotjar.com\" rel=\"dns-prefetch\"/>, <link href=\"https://insights.hotjar.com\" rel=\"preconnect\"/>, <link href=\"https://lib.onet.pl\" rel=\"dns-prefetch\"/>, <link href=\"https://lib.onet.pl\" rel=\"preconnect\"/>, <link href=\"https://onesignal.com\" rel=\"dns-prefetch\"/>, <link href=\"https://onesignal.com\" rel=\"preconnect\"/>, <link href=\"https://pagead2.googlesyndication.com\" rel=\"dns-prefetch\"/>, <link href=\"https://pagead2.googlesyndication.com\" rel=\"preconnect\"/>, <link href=\"https://script.hotjar.com\" rel=\"dns-prefetch\"/>, <link href=\"https://script.hotjar.com\" rel=\"preconnect\"/>, <link href=\"https://securepubads.g.doubleclick.net\" rel=\"dns-prefetch\"/>, <link href=\"https://securepubads.g.doubleclick.net\" rel=\"preconnect\"/>, <link href=\"https://sgqcvfjvr.onet.pl\" rel=\"dns-prefetch\"/>, <link href=\"https://sgqcvfjvr.onet.pl\" rel=\"preconnect\"/>, <link href=\"https://static.hotjar.com\" rel=\"dns-prefetch\"/>, <link href=\"https://static.hotjar.com\" rel=\"preconnect\"/>, <link href=\"https://stats.g.doubleclick.net\" rel=\"dns-prefetch\"/>, <link href=\"https://stats.g.doubleclick.net\" rel=\"preconnect\"/>, <link href=\"https://tpc.googlesyndication.com\" rel=\"dns-prefetch\"/>, <link href=\"https://tpc.googlesyndication.com\" rel=\"preconnect\"/>, <link href=\"https://vars.hotjar.com\" rel=\"dns-prefetch\"/>, <link href=\"https://vars.hotjar.com\" rel=\"preconnect\"/>, <link href=\"https://www.facebook.com\" rel=\"dns-prefetch\"/>, <link href=\"https://www.facebook.com\" rel=\"preconnect\"/>, <link href=\"https://www.google-analytics.com\" rel=\"dns-prefetch\"/>, <link href=\"https://www.google-analytics.com\" rel=\"preconnect\"/>, <link href=\"https://www.googleadservices.com\" rel=\"dns-prefetch\"/>, <link href=\"https://www.googleadservices.com\" rel=\"preconnect\"/>, <link href=\"https://www.googletagmanager.com\" rel=\"dns-prefetch\"/>, <link href=\"https://www.googletagmanager.com\" rel=\"preconnect\"/>, <link href=\"https://www.googletagservices.com\" rel=\"dns-prefetch\"/>, <link href=\"https://www.googletagservices.com\" rel=\"preconnect\"/>, <link as=\"style\" href=\"https://www.pigiame.co.ke/assets/pi-site/css/main.91d1f0f6.css\" rel=\"preload\"/>, <link as=\"script\" href=\"https://www.pigiame.co.ke/assets/pi-site/scripts/jquery.min.cf2fbbf8.js\" rel=\"preload\"/>, <link as=\"script\" href=\"https://www.pigiame.co.ke/assets/pi-site/scripts/dependencies-modern.min.da508805.js\" rel=\"preload\"/>, <link href=\"https://www.pigiame.co.ke/it-software-jobs\" rel=\"canonical\"/>, <link href=\"https://www.pigiame.co.ke/it-software-jobs?page=2\" rel=\"next\"/>, <link href=\"https://www.pigiame.co.ke/assets/pi-site/favicon/favicon.f3937744.ico\" rel=\"shortcut icon\" sizes=\"any\"/>, <link href=\"https://www.pigiame.co.ke/assets/pi-site/favicon/favicon.bdeb05e3.svg\" rel=\"icon\" type=\"image/svg+xml\"/>, <link href=\"https://www.pigiame.co.ke/assets/pi-site/favicon/apple-touch-icon.a07f08b2.png\" rel=\"apple-touch-icon\" sizes=\"180x180\"/>, <link href=\"https://www.pigiame.co.ke/assets/pi-site/favicon/favicon-32x32.11b7dff0.png\" rel=\"icon\" sizes=\"32x32\" type=\"image/png\"/>, <link href=\"https://www.pigiame.co.ke/assets/pi-site/favicon/favicon-16x16.eb58a032.png\" rel=\"icon\" sizes=\"16x16\" type=\"image/png\"/>, <link href=\"https://www.pigiame.co.ke/assets/pi-site/favicon/site.9243224e.webmanifest\" rel=\"manifest\"/>, <link color=\"#ff2727\" href=\"https://www.pigiame.co.ke/assets/pi-site/favicon/safari-pinned-tab.a89e5fae.svg\" rel=\"mask-icon\"/>, <link href=\"https://www.pigiame.co.ke/assets/pi-site/css/main.91d1f0f6.css\" media=\"all\" rel=\"stylesheet\" type=\"text/css\"/>]\n"
          ]
        }
      ]
    },
    {
      "cell_type": "code",
      "source": [
        "pigia_links = []\n",
        "for link in pigialinks:\n",
        "    lin = link.get('href')\n",
        " \n",
        "    pigia_links.append(lin) "
      ],
      "metadata": {
        "id": "AEZ3T69mYKLM"
      },
      "execution_count": 36,
      "outputs": []
    },
    {
      "cell_type": "code",
      "source": [
        "print(pigia_links)"
      ],
      "metadata": {
        "colab": {
          "base_uri": "https://localhost:8080/"
        },
        "id": "KXeDdYxrYq5s",
        "outputId": "a99a1f15-3144-4609-ff46-90c86aca8688"
      },
      "execution_count": 37,
      "outputs": [
        {
          "output_type": "stream",
          "name": "stdout",
          "text": [
            "['https://i.roamcdn.net', 'https://i.roamcdn.net', 'https://adservice.google.com', 'https://adservice.google.com', 'https://cdn.onesignal.com', 'https://cdn.onesignal.com', 'https://connect.facebook.net', 'https://connect.facebook.net', 'https://creativecdn.com', 'https://creativecdn.com', 'https://googleads.g.doubleclick.net', 'https://googleads.g.doubleclick.net', 'https://insights.hotjar.com', 'https://insights.hotjar.com', 'https://lib.onet.pl', 'https://lib.onet.pl', 'https://onesignal.com', 'https://onesignal.com', 'https://pagead2.googlesyndication.com', 'https://pagead2.googlesyndication.com', 'https://script.hotjar.com', 'https://script.hotjar.com', 'https://securepubads.g.doubleclick.net', 'https://securepubads.g.doubleclick.net', 'https://sgqcvfjvr.onet.pl', 'https://sgqcvfjvr.onet.pl', 'https://static.hotjar.com', 'https://static.hotjar.com', 'https://stats.g.doubleclick.net', 'https://stats.g.doubleclick.net', 'https://tpc.googlesyndication.com', 'https://tpc.googlesyndication.com', 'https://vars.hotjar.com', 'https://vars.hotjar.com', 'https://www.facebook.com', 'https://www.facebook.com', 'https://www.google-analytics.com', 'https://www.google-analytics.com', 'https://www.googleadservices.com', 'https://www.googleadservices.com', 'https://www.googletagmanager.com', 'https://www.googletagmanager.com', 'https://www.googletagservices.com', 'https://www.googletagservices.com', 'https://www.pigiame.co.ke/assets/pi-site/css/main.91d1f0f6.css', 'https://www.pigiame.co.ke/assets/pi-site/scripts/jquery.min.cf2fbbf8.js', 'https://www.pigiame.co.ke/assets/pi-site/scripts/dependencies-modern.min.da508805.js', 'https://www.pigiame.co.ke/it-software-jobs', 'https://www.pigiame.co.ke/it-software-jobs?page=2', 'https://www.pigiame.co.ke/assets/pi-site/favicon/favicon.f3937744.ico', 'https://www.pigiame.co.ke/assets/pi-site/favicon/favicon.bdeb05e3.svg', 'https://www.pigiame.co.ke/assets/pi-site/favicon/apple-touch-icon.a07f08b2.png', 'https://www.pigiame.co.ke/assets/pi-site/favicon/favicon-32x32.11b7dff0.png', 'https://www.pigiame.co.ke/assets/pi-site/favicon/favicon-16x16.eb58a032.png', 'https://www.pigiame.co.ke/assets/pi-site/favicon/site.9243224e.webmanifest', 'https://www.pigiame.co.ke/assets/pi-site/favicon/safari-pinned-tab.a89e5fae.svg', 'https://www.pigiame.co.ke/assets/pi-site/css/main.91d1f0f6.css']\n"
          ]
        }
      ]
    },
    {
      "cell_type": "code",
      "source": [
        "print(pigiatitles)"
      ],
      "metadata": {
        "colab": {
          "base_uri": "https://localhost:8080/"
        },
        "id": "L9o4lw6dXxjU",
        "outputId": "35622ac5-af00-4066-f8bc-d3a7ae1d16f2"
      },
      "execution_count": 31,
      "outputs": [
        {
          "output_type": "stream",
          "name": "stdout",
          "text": [
            "[<title>It &amp; Software Jobs in Kenya | PigiaMe</title>]\n"
          ]
        }
      ]
    },
    {
      "cell_type": "code",
      "metadata": {
        "id": "NNLbrng_3QfA"
      },
      "source": [
        "# 2. Extracting job titles: my_job_mag\n",
        "# ---\n",
        "# \n",
        "jobmagtitle = my_job_mag.find_all('title')\n",
        "jobmaglinks = my_job_mag.find_all('link')"
      ],
      "execution_count": 29,
      "outputs": []
    },
    {
      "cell_type": "code",
      "source": [
        "print(jobmagtitle)"
      ],
      "metadata": {
        "colab": {
          "base_uri": "https://localhost:8080/"
        },
        "id": "ReYz0Kj5VBkE",
        "outputId": "28862c61-64d4-45b4-f9c0-78fa0e615548"
      },
      "execution_count": 27,
      "outputs": [
        {
          "output_type": "stream",
          "name": "stdout",
          "text": [
            "[<title>ICT / Computer Jobs in Kenya -  ICT / Computer Vacancies in Kenya February 2023 | MyJobMag</title>]\n"
          ]
        }
      ]
    },
    {
      "cell_type": "code",
      "source": [
        "print(jobmaglinks)"
      ],
      "metadata": {
        "colab": {
          "base_uri": "https://localhost:8080/"
        },
        "id": "jAal9t-EX9aD",
        "outputId": "161e2d94-28b0-451c-d798-e8d8ea274cfe"
      },
      "execution_count": 32,
      "outputs": [
        {
          "output_type": "stream",
          "name": "stdout",
          "text": [
            "[<link href=\"https://www.myjobmag.co.ke/jobs-by-field/information-technology\" rel=\"canonical\"/>, <link href=\"https://www.myjobmag.co.ke/jobs-by-field/information-technology/2\" rel=\"next\"/>, <link href=\"/favicon.ico\" rel=\"shortcut icon\" type=\"image/x-icon\"/>, <link href=\"/css/myjobmag.1673018618.css\" rel=\"stylesheet\" type=\"text/css\"/>, <link href=\"/css/responsive.1675258654.css\" rel=\"stylesheet\" type=\"text/css\"/>]\n"
          ]
        }
      ]
    },
    {
      "cell_type": "code",
      "source": [
        "jobmag_links = []\n",
        "for link in jobmaglinks:\n",
        "    jlin = link.get('href')\n",
        " \n",
        "    jobmag_links.append(jlin) "
      ],
      "metadata": {
        "id": "7cQJXugQZEF7"
      },
      "execution_count": 38,
      "outputs": []
    },
    {
      "cell_type": "code",
      "source": [
        "print(jobmag_links)"
      ],
      "metadata": {
        "colab": {
          "base_uri": "https://localhost:8080/"
        },
        "id": "B7HLI64acWra",
        "outputId": "f55832ec-f6ac-408c-945d-1f117b202ac7"
      },
      "execution_count": 39,
      "outputs": [
        {
          "output_type": "stream",
          "name": "stdout",
          "text": [
            "['https://www.myjobmag.co.ke/jobs-by-field/information-technology', 'https://www.myjobmag.co.ke/jobs-by-field/information-technology/2', '/favicon.ico', '/css/myjobmag.1673018618.css', '/css/responsive.1675258654.css']\n"
          ]
        }
      ]
    },
    {
      "cell_type": "code",
      "metadata": {
        "id": "I0fQKn63QV0R"
      },
      "source": [
        "# 3. Extracting job titles: kenya_job\n",
        "# ---\n",
        "#\n",
        "kenyanjobtitle = Kenyan_Job.find_all('title')\n",
        "kenyanjoblinks = Kenyan_Job.find_all('link')"
      ],
      "execution_count": 40,
      "outputs": []
    },
    {
      "cell_type": "code",
      "source": [
        "print(kenyanjobtitle)"
      ],
      "metadata": {
        "colab": {
          "base_uri": "https://localhost:8080/"
        },
        "id": "D7tglfxnVHED",
        "outputId": "7493ef8b-9544-4da5-b564-1f559320cdcd"
      },
      "execution_count": 28,
      "outputs": [
        {
          "output_type": "stream",
          "name": "stdout",
          "text": [
            "[<title>IT, software engineering, Internet Jobs Kenya | Kenyajob.com</title>]\n"
          ]
        }
      ]
    },
    {
      "cell_type": "code",
      "source": [
        "print(kenyanjoblinks)"
      ],
      "metadata": {
        "colab": {
          "base_uri": "https://localhost:8080/"
        },
        "id": "FUv0KcsMc6ij",
        "outputId": "c7058aaf-5ce7-4b13-fd5f-a1ee70af2ff0"
      },
      "execution_count": 41,
      "outputs": [
        {
          "output_type": "stream",
          "name": "stdout",
          "text": [
            "[<link href=\"https://www.kenyajob.com/sites/all/themes/africawork2/favicon.ico\" rel=\"shortcut icon\" type=\"image/vnd.microsoft.icon\"/>, <link href=\"https://www.kenyajob.com/job-vacancies-search-kenya\" rel=\"canonical\"/>, <link href=\"https://www.kenyajob.com/job-vacancies-search-kenya\" rel=\"shortlink\"/>, <link href=\"https://www.kenyajob.com/sites/kenyajob.com/files/css/css_xE-rWrJf-fncB6ztZfd2huxqgxu4WO-qwma6Xer30m4.css\" media=\"all\" rel=\"stylesheet\" type=\"text/css\"/>, <link href=\"https://www.kenyajob.com/sites/kenyajob.com/files/css/css_RrIaXHIDgOsC727EgAbl6WymmGuUu2LFXADcokToV8c.css\" media=\"all\" rel=\"stylesheet\" type=\"text/css\"/>, <link href=\"https://www.kenyajob.com/sites/kenyajob.com/files/css/css_Ls3uBHalfLpixuZq_CjWcy6ZvefdEyCDN_e8EZsl8YM.css\" media=\"all\" rel=\"stylesheet\" type=\"text/css\"/>, <link href=\"https://www.kenyajob.com/sites/kenyajob.com/files/css/css_f1N185LOoXhTCZLHoT8dr4SugEppkKbmZUHgL3oV7E8.css\" media=\"all\" rel=\"stylesheet\" type=\"text/css\"/>, <link href=\"https://www.kenyajob.com/sites/kenyajob.com/files/css/css_A-XTpg_a36zgn9tKfRsqGvRTLRp1QDOuSQfBoQxEg_Q.css\" media=\"all\" rel=\"stylesheet\" type=\"text/css\"/>]\n"
          ]
        }
      ]
    },
    {
      "cell_type": "code",
      "source": [
        "kenyanjob_links = []\n",
        "for link in kenyanjoblinks:\n",
        "    klin = link.get('href')\n",
        " \n",
        "    kenyanjob_links.append(klin) "
      ],
      "metadata": {
        "id": "dVU2olupdBeb"
      },
      "execution_count": 44,
      "outputs": []
    },
    {
      "cell_type": "code",
      "source": [
        "print(kenyanjob_links)"
      ],
      "metadata": {
        "colab": {
          "base_uri": "https://localhost:8080/"
        },
        "id": "qj1f4t-kdLr7",
        "outputId": "333cbf3b-ca64-4ec1-bc06-ff3601bab65f"
      },
      "execution_count": 45,
      "outputs": [
        {
          "output_type": "stream",
          "name": "stdout",
          "text": [
            "['https://www.kenyajob.com/sites/all/themes/africawork2/favicon.ico', 'https://www.kenyajob.com/job-vacancies-search-kenya', 'https://www.kenyajob.com/job-vacancies-search-kenya', 'https://www.kenyajob.com/sites/kenyajob.com/files/css/css_xE-rWrJf-fncB6ztZfd2huxqgxu4WO-qwma6Xer30m4.css', 'https://www.kenyajob.com/sites/kenyajob.com/files/css/css_RrIaXHIDgOsC727EgAbl6WymmGuUu2LFXADcokToV8c.css', 'https://www.kenyajob.com/sites/kenyajob.com/files/css/css_Ls3uBHalfLpixuZq_CjWcy6ZvefdEyCDN_e8EZsl8YM.css', 'https://www.kenyajob.com/sites/kenyajob.com/files/css/css_f1N185LOoXhTCZLHoT8dr4SugEppkKbmZUHgL3oV7E8.css', 'https://www.kenyajob.com/sites/kenyajob.com/files/css/css_A-XTpg_a36zgn9tKfRsqGvRTLRp1QDOuSQfBoQxEg_Q.css']\n"
          ]
        }
      ]
    },
    {
      "cell_type": "markdown",
      "metadata": {
        "id": "7ePXABAihaKn"
      },
      "source": [
        "## <font color='#2F4F4F'>Step 4: Saving our Data</font>"
      ]
    },
    {
      "cell_type": "code",
      "metadata": {
        "id": "fsG9pQXk5f8y"
      },
      "source": [
        "# Saving the scraped contents in a dataframe and preview our data\n",
        "# ---\n",
        "#\n",
        "links = {\"Pigia Job Links\":pigia_links,\"Jobmag Links\":jobmag_links,\"KenyanJob Links\":kenyanjob_links}\n",
        "jobs_df = pd.DataFrame.from_dict(links, orient = 'index')\n",
        "jobs_df = jobs_df.transpose()"
      ],
      "execution_count": 49,
      "outputs": []
    },
    {
      "cell_type": "code",
      "source": [
        "jobs_df.sample(20)"
      ],
      "metadata": {
        "colab": {
          "base_uri": "https://localhost:8080/",
          "height": 676
        },
        "id": "AERCqlDegB6r",
        "outputId": "ebecb2fb-8575-4477-cca2-f2c518059e6b"
      },
      "execution_count": 52,
      "outputs": [
        {
          "output_type": "execute_result",
          "data": {
            "text/plain": [
              "                                      Pigia Job Links  \\\n",
              "37                   https://www.google-analytics.com   \n",
              "50  https://www.pigiame.co.ke/assets/pi-site/favic...   \n",
              "16                              https://onesignal.com   \n",
              "4                           https://cdn.onesignal.com   \n",
              "44  https://www.pigiame.co.ke/assets/pi-site/css/m...   \n",
              "6                        https://connect.facebook.net   \n",
              "55  https://www.pigiame.co.ke/assets/pi-site/favic...   \n",
              "15                                https://lib.onet.pl   \n",
              "31                  https://tpc.googlesyndication.com   \n",
              "20                          https://script.hotjar.com   \n",
              "46  https://www.pigiame.co.ke/assets/pi-site/scrip...   \n",
              "13                        https://insights.hotjar.com   \n",
              "49  https://www.pigiame.co.ke/assets/pi-site/favic...   \n",
              "40                   https://www.googletagmanager.com   \n",
              "0                               https://i.roamcdn.net   \n",
              "36                   https://www.google-analytics.com   \n",
              "33                            https://vars.hotjar.com   \n",
              "10                https://googleads.g.doubleclick.net   \n",
              "14                                https://lib.onet.pl   \n",
              "53  https://www.pigiame.co.ke/assets/pi-site/favic...   \n",
              "\n",
              "                                         Jobmag Links  \\\n",
              "37                                               None   \n",
              "50                                               None   \n",
              "16                                               None   \n",
              "4                      /css/responsive.1675258654.css   \n",
              "44                                               None   \n",
              "6                                                None   \n",
              "55                                               None   \n",
              "15                                               None   \n",
              "31                                               None   \n",
              "20                                               None   \n",
              "46                                               None   \n",
              "13                                               None   \n",
              "49                                               None   \n",
              "40                                               None   \n",
              "0   https://www.myjobmag.co.ke/jobs-by-field/infor...   \n",
              "36                                               None   \n",
              "33                                               None   \n",
              "10                                               None   \n",
              "14                                               None   \n",
              "53                                               None   \n",
              "\n",
              "                                      KenyanJob Links  \n",
              "37                                               None  \n",
              "50                                               None  \n",
              "16                                               None  \n",
              "4   https://www.kenyajob.com/sites/kenyajob.com/fi...  \n",
              "44                                               None  \n",
              "6   https://www.kenyajob.com/sites/kenyajob.com/fi...  \n",
              "55                                               None  \n",
              "15                                               None  \n",
              "31                                               None  \n",
              "20                                               None  \n",
              "46                                               None  \n",
              "13                                               None  \n",
              "49                                               None  \n",
              "40                                               None  \n",
              "0   https://www.kenyajob.com/sites/all/themes/afri...  \n",
              "36                                               None  \n",
              "33                                               None  \n",
              "10                                               None  \n",
              "14                                               None  \n",
              "53                                               None  "
            ],
            "text/html": [
              "\n",
              "  <div id=\"df-dc70542d-c15c-47e0-bf40-863a405cbe3e\">\n",
              "    <div class=\"colab-df-container\">\n",
              "      <div>\n",
              "<style scoped>\n",
              "    .dataframe tbody tr th:only-of-type {\n",
              "        vertical-align: middle;\n",
              "    }\n",
              "\n",
              "    .dataframe tbody tr th {\n",
              "        vertical-align: top;\n",
              "    }\n",
              "\n",
              "    .dataframe thead th {\n",
              "        text-align: right;\n",
              "    }\n",
              "</style>\n",
              "<table border=\"1\" class=\"dataframe\">\n",
              "  <thead>\n",
              "    <tr style=\"text-align: right;\">\n",
              "      <th></th>\n",
              "      <th>Pigia Job Links</th>\n",
              "      <th>Jobmag Links</th>\n",
              "      <th>KenyanJob Links</th>\n",
              "    </tr>\n",
              "  </thead>\n",
              "  <tbody>\n",
              "    <tr>\n",
              "      <th>37</th>\n",
              "      <td>https://www.google-analytics.com</td>\n",
              "      <td>None</td>\n",
              "      <td>None</td>\n",
              "    </tr>\n",
              "    <tr>\n",
              "      <th>50</th>\n",
              "      <td>https://www.pigiame.co.ke/assets/pi-site/favic...</td>\n",
              "      <td>None</td>\n",
              "      <td>None</td>\n",
              "    </tr>\n",
              "    <tr>\n",
              "      <th>16</th>\n",
              "      <td>https://onesignal.com</td>\n",
              "      <td>None</td>\n",
              "      <td>None</td>\n",
              "    </tr>\n",
              "    <tr>\n",
              "      <th>4</th>\n",
              "      <td>https://cdn.onesignal.com</td>\n",
              "      <td>/css/responsive.1675258654.css</td>\n",
              "      <td>https://www.kenyajob.com/sites/kenyajob.com/fi...</td>\n",
              "    </tr>\n",
              "    <tr>\n",
              "      <th>44</th>\n",
              "      <td>https://www.pigiame.co.ke/assets/pi-site/css/m...</td>\n",
              "      <td>None</td>\n",
              "      <td>None</td>\n",
              "    </tr>\n",
              "    <tr>\n",
              "      <th>6</th>\n",
              "      <td>https://connect.facebook.net</td>\n",
              "      <td>None</td>\n",
              "      <td>https://www.kenyajob.com/sites/kenyajob.com/fi...</td>\n",
              "    </tr>\n",
              "    <tr>\n",
              "      <th>55</th>\n",
              "      <td>https://www.pigiame.co.ke/assets/pi-site/favic...</td>\n",
              "      <td>None</td>\n",
              "      <td>None</td>\n",
              "    </tr>\n",
              "    <tr>\n",
              "      <th>15</th>\n",
              "      <td>https://lib.onet.pl</td>\n",
              "      <td>None</td>\n",
              "      <td>None</td>\n",
              "    </tr>\n",
              "    <tr>\n",
              "      <th>31</th>\n",
              "      <td>https://tpc.googlesyndication.com</td>\n",
              "      <td>None</td>\n",
              "      <td>None</td>\n",
              "    </tr>\n",
              "    <tr>\n",
              "      <th>20</th>\n",
              "      <td>https://script.hotjar.com</td>\n",
              "      <td>None</td>\n",
              "      <td>None</td>\n",
              "    </tr>\n",
              "    <tr>\n",
              "      <th>46</th>\n",
              "      <td>https://www.pigiame.co.ke/assets/pi-site/scrip...</td>\n",
              "      <td>None</td>\n",
              "      <td>None</td>\n",
              "    </tr>\n",
              "    <tr>\n",
              "      <th>13</th>\n",
              "      <td>https://insights.hotjar.com</td>\n",
              "      <td>None</td>\n",
              "      <td>None</td>\n",
              "    </tr>\n",
              "    <tr>\n",
              "      <th>49</th>\n",
              "      <td>https://www.pigiame.co.ke/assets/pi-site/favic...</td>\n",
              "      <td>None</td>\n",
              "      <td>None</td>\n",
              "    </tr>\n",
              "    <tr>\n",
              "      <th>40</th>\n",
              "      <td>https://www.googletagmanager.com</td>\n",
              "      <td>None</td>\n",
              "      <td>None</td>\n",
              "    </tr>\n",
              "    <tr>\n",
              "      <th>0</th>\n",
              "      <td>https://i.roamcdn.net</td>\n",
              "      <td>https://www.myjobmag.co.ke/jobs-by-field/infor...</td>\n",
              "      <td>https://www.kenyajob.com/sites/all/themes/afri...</td>\n",
              "    </tr>\n",
              "    <tr>\n",
              "      <th>36</th>\n",
              "      <td>https://www.google-analytics.com</td>\n",
              "      <td>None</td>\n",
              "      <td>None</td>\n",
              "    </tr>\n",
              "    <tr>\n",
              "      <th>33</th>\n",
              "      <td>https://vars.hotjar.com</td>\n",
              "      <td>None</td>\n",
              "      <td>None</td>\n",
              "    </tr>\n",
              "    <tr>\n",
              "      <th>10</th>\n",
              "      <td>https://googleads.g.doubleclick.net</td>\n",
              "      <td>None</td>\n",
              "      <td>None</td>\n",
              "    </tr>\n",
              "    <tr>\n",
              "      <th>14</th>\n",
              "      <td>https://lib.onet.pl</td>\n",
              "      <td>None</td>\n",
              "      <td>None</td>\n",
              "    </tr>\n",
              "    <tr>\n",
              "      <th>53</th>\n",
              "      <td>https://www.pigiame.co.ke/assets/pi-site/favic...</td>\n",
              "      <td>None</td>\n",
              "      <td>None</td>\n",
              "    </tr>\n",
              "  </tbody>\n",
              "</table>\n",
              "</div>\n",
              "      <button class=\"colab-df-convert\" onclick=\"convertToInteractive('df-dc70542d-c15c-47e0-bf40-863a405cbe3e')\"\n",
              "              title=\"Convert this dataframe to an interactive table.\"\n",
              "              style=\"display:none;\">\n",
              "        \n",
              "  <svg xmlns=\"http://www.w3.org/2000/svg\" height=\"24px\"viewBox=\"0 0 24 24\"\n",
              "       width=\"24px\">\n",
              "    <path d=\"M0 0h24v24H0V0z\" fill=\"none\"/>\n",
              "    <path d=\"M18.56 5.44l.94 2.06.94-2.06 2.06-.94-2.06-.94-.94-2.06-.94 2.06-2.06.94zm-11 1L8.5 8.5l.94-2.06 2.06-.94-2.06-.94L8.5 2.5l-.94 2.06-2.06.94zm10 10l.94 2.06.94-2.06 2.06-.94-2.06-.94-.94-2.06-.94 2.06-2.06.94z\"/><path d=\"M17.41 7.96l-1.37-1.37c-.4-.4-.92-.59-1.43-.59-.52 0-1.04.2-1.43.59L10.3 9.45l-7.72 7.72c-.78.78-.78 2.05 0 2.83L4 21.41c.39.39.9.59 1.41.59.51 0 1.02-.2 1.41-.59l7.78-7.78 2.81-2.81c.8-.78.8-2.07 0-2.86zM5.41 20L4 18.59l7.72-7.72 1.47 1.35L5.41 20z\"/>\n",
              "  </svg>\n",
              "      </button>\n",
              "      \n",
              "  <style>\n",
              "    .colab-df-container {\n",
              "      display:flex;\n",
              "      flex-wrap:wrap;\n",
              "      gap: 12px;\n",
              "    }\n",
              "\n",
              "    .colab-df-convert {\n",
              "      background-color: #E8F0FE;\n",
              "      border: none;\n",
              "      border-radius: 50%;\n",
              "      cursor: pointer;\n",
              "      display: none;\n",
              "      fill: #1967D2;\n",
              "      height: 32px;\n",
              "      padding: 0 0 0 0;\n",
              "      width: 32px;\n",
              "    }\n",
              "\n",
              "    .colab-df-convert:hover {\n",
              "      background-color: #E2EBFA;\n",
              "      box-shadow: 0px 1px 2px rgba(60, 64, 67, 0.3), 0px 1px 3px 1px rgba(60, 64, 67, 0.15);\n",
              "      fill: #174EA6;\n",
              "    }\n",
              "\n",
              "    [theme=dark] .colab-df-convert {\n",
              "      background-color: #3B4455;\n",
              "      fill: #D2E3FC;\n",
              "    }\n",
              "\n",
              "    [theme=dark] .colab-df-convert:hover {\n",
              "      background-color: #434B5C;\n",
              "      box-shadow: 0px 1px 3px 1px rgba(0, 0, 0, 0.15);\n",
              "      filter: drop-shadow(0px 1px 2px rgba(0, 0, 0, 0.3));\n",
              "      fill: #FFFFFF;\n",
              "    }\n",
              "  </style>\n",
              "\n",
              "      <script>\n",
              "        const buttonEl =\n",
              "          document.querySelector('#df-dc70542d-c15c-47e0-bf40-863a405cbe3e button.colab-df-convert');\n",
              "        buttonEl.style.display =\n",
              "          google.colab.kernel.accessAllowed ? 'block' : 'none';\n",
              "\n",
              "        async function convertToInteractive(key) {\n",
              "          const element = document.querySelector('#df-dc70542d-c15c-47e0-bf40-863a405cbe3e');\n",
              "          const dataTable =\n",
              "            await google.colab.kernel.invokeFunction('convertToInteractive',\n",
              "                                                     [key], {});\n",
              "          if (!dataTable) return;\n",
              "\n",
              "          const docLinkHtml = 'Like what you see? Visit the ' +\n",
              "            '<a target=\"_blank\" href=https://colab.research.google.com/notebooks/data_table.ipynb>data table notebook</a>'\n",
              "            + ' to learn more about interactive tables.';\n",
              "          element.innerHTML = '';\n",
              "          dataTable['output_type'] = 'display_data';\n",
              "          await google.colab.output.renderOutput(dataTable, element);\n",
              "          const docLink = document.createElement('div');\n",
              "          docLink.innerHTML = docLinkHtml;\n",
              "          element.appendChild(docLink);\n",
              "        }\n",
              "      </script>\n",
              "    </div>\n",
              "  </div>\n",
              "  "
            ]
          },
          "metadata": {},
          "execution_count": 52
        }
      ]
    }
  ]
}